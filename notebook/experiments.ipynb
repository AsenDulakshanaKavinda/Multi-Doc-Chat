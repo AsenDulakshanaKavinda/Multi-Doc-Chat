{
 "cells": [
  {
   "cell_type": "code",
   "execution_count": 1,
   "id": "e1a2b85d",
   "metadata": {},
   "outputs": [
    {
     "name": "stderr",
     "output_type": "stream",
     "text": [
      "\u001b[2mUsing Python 3.11.0 environment at: E:\\Project\\Multi-Doc-Chat\\.venv\u001b[0m\n",
      "\u001b[1m\u001b[31merror\u001b[39m\u001b[0m: Failed to read metadata for: numpy==2.3.4\n",
      "  \u001b[1m\u001b[31mCaused by\u001b[39m\u001b[0m: failed to open file `E:\\Project\\Multi-Doc-Chat\\.venv\\Lib\\site-packages\\numpy-2.3.4.dist-info\\METADATA`: The system cannot find the file specified. (os error 2)\n"
     ]
    }
   ],
   "source": [
    "! uv pip install langchain mistralai tiktoken rapidocr-onnxruntime python-dotenv langchain-community"
   ]
  },
  {
   "cell_type": "code",
   "execution_count": 2,
   "metadata": {},
   "outputs": [],
   "source": [
    "import os\n",
    "from dotenv import load_dotenv\n",
    "load_dotenv()\n",
    "os.environ[\"MISTRAL_API_KEY\"] = os.getenv(\"MISTRAL_API_KEY\")"
   ]
  },
  {
   "cell_type": "markdown",
   "id": "c7690e35",
   "metadata": {},
   "source": [
    "## data ingestion"
   ]
  },
  {
   "cell_type": "code",
   "execution_count": 3,
   "metadata": {},
   "outputs": [],
   "source": [
    "from langchain_community.document_loaders import TextLoader"
   ]
  },
  {
   "cell_type": "code",
   "execution_count": 4,
   "metadata": {},
   "outputs": [],
   "source": [
    "file_path = \"../data/test_data/Agentic_AI_Essay.txt\"\n",
    "loader = TextLoader(file_path)\n",
    "documents = loader.load()"
   ]
  },
  {
   "cell_type": "code",
   "execution_count": 5,
   "metadata": {},
   "outputs": [
    {
     "data": {
      "text/plain": [
       "'\\nTitle: The Rise of Agentic AI: A New Paradigm in Artificial Intelligence\\n\\nIntroduction\\nArtificial Intelligence (AI) has evolved dramatically over the last decade, progressing from rule-based expert systems to large-scale neural networks capable of generating language, art, and even scientific hypotheses. However, the next frontier of AI research and development is moving toward something far more dynamic and independentâ€”**Agentic AI**. This new paradigm envisions AI systems that can reason, plan, and act autonomously to achieve complex goals over time. Unlike traditional AI models that passively respond to input, agentic systems can pursue objectives, adapt to environments, and self-improve through feedback loops.\\n\\nThis essay explores the concept of Agentic AI in depth, covering its definition, architecture, components, current applications, challenges, and potential societal impact. It also discusses the ethical and philosophical dimensions of creating systems capable of autonomous reasoning and decision-making.\\n\\n1. Defining Agentic AI\\n\\nAgentic AI refers to artificial intelligence systems that exhibit **agency**, meaning they can take initiative, make decisions, and perform actions aligned with specific objectives. While conventional AI models (like ChatGPT or image classifiers) respond to user inputs, agentic systems can **set sub-goals**, **execute multi-step reasoning**, and **interact with digital or physical environments** to fulfill tasks.\\n\\nFor example, a traditional AI assistant can provide information when asked, but an agentic AI could autonomously organize your schedule, book travel arrangements, and adapt those plans when circumstances change. It operates more like an **intelligent digital co-worker** rather than a passive tool.\\n\\nThe term \"agentic\" stems from psychology and philosophy, where **agency** describes the capacity of an individual to act independently and make free choices. Translating this to AI implies systems that can perform cognitive functions such as perception, planning, memory, reasoning, and self-reflection.\\n\\n2. The Core Components of Agentic AI\\nBuilding an agentic system requires integrating several key components that enable perception, reasoning, and action:\\n\\n**a. Perception**\\nThe agent must perceive and interpret its environment through data. This could involve textual inputs (for digital agents) or sensory data (for robotics). Natural Language Processing (NLP), Computer Vision, and multimodal learning are critical enablers here.\\n\\n**b. Memory**\\nAn agent requires both short-term and long-term memory to maintain context across interactions and learn from past experiences. Memory architectures can include vector databases, retrieval-augmented generation (RAG) systems, or reinforcement learning memories.\\n\\n**c. Planning and Reasoning**\\nThis involves decision-making frameworks such as **goal decomposition**, **tree search**, **Monte Carlo simulations**, or **symbolic reasoning**. Planning allows the agent to determine the best path toward achieving a goal.\\n\\n**d. Tools and Environment Interaction**\\nAgentic AI often uses **tool use**â€”such as APIs, databases, web browsers, or robotics control systemsâ€”to interact with the world. This makes them capable of performing concrete actions rather than just generating text.\\n\\n**e. Feedback and Learning**\\nAgents continually improve by analyzing outcomes and adjusting future strategies. Reinforcement Learning (RL), Self-Reflective Reasoning, and active feedback loops are common mechanisms for this adaptation.\\n\\n3. Architectures Enabling Agentic AI\\nAgentic AI is not limited to one architecture. Instead, itâ€™s a paradigm that builds upon multiple frameworks, including:\\n\\n**a. Large Language Model (LLM) Agents**\\nLLMs such as GPT-4 or Claude 3 serve as cognitive cores for many agentic systems. When paired with memory and tool access, these models can reason, plan, and act autonomously.\\n\\n**b. Multi-Agent Systems (MAS)**\\nIn MAS setups, multiple AI agents collaborate or compete to solve complex problems. Examples include research assistants working in teams or simulation environments where agents negotiate outcomes.\\n\\n**c. Cognitive Architectures**\\nFrameworks like **ACT-R**, **SOAR**, and modern neural-symbolic hybrids attempt to mimic human cognition, combining symbolic reasoning with neural perception.\\n\\n**d. Reinforcement Learning-Based Agents**\\nRL agents learn through trial and error, optimizing actions based on rewards. When combined with LLMs, they enable reflective and adaptive behavior.\\n\\n4. Applications of Agentic AI\\nAgentic AI systems are already emerging across industries. Some promising applications include:\\n\\n**a. Autonomous Research Assistants**\\nPlatforms like **AutoGPT**, **BabyAGI**, and **ChatDev** can autonomously search the web, summarize papers, generate hypotheses, and even write code to test them.\\n\\n**b. Business Process Automation**\\nAgentic systems can oversee workflowsâ€”monitoring supply chains, managing marketing campaigns, and optimizing logisticsâ€”without continuous human input.\\n\\n**c. Personalized Education**\\nAn agentic tutor can dynamically adjust its teaching strategy based on a studentâ€™s learning pace and comprehension level.\\n\\n**d. Healthcare Diagnostics and Management**\\nSuch systems can autonomously monitor patient data, predict health risks, schedule appointments, and optimize treatment plans.\\n\\n**e. Robotics and Autonomous Systems**\\nIn robotics, agentic AI enables self-navigating drones, warehouse automation, and intelligent prosthetics capable of adaptive control.\\n\\n5. Ethical and Societal Challenges\\nWhile Agentic AI holds enormous potential, it also raises profound ethical and governance challenges.\\n\\n**a. Alignment and Control**\\nEnsuring that agents remain aligned with human intentions is a critical problem. Misaligned objectives can cause harmful or unintended behavior.\\n\\n**b. Accountability**\\nWho is responsible when an autonomous agent makes a poor decision? Legal and moral accountability frameworks must evolve to address this question.\\n\\n**c. Privacy and Surveillance**\\nAgentic systems with access to personal data can inadvertently violate privacy or misuse sensitive information.\\n\\n**d. Economic Disruption**\\nAutomation at this scale may lead to displacement in sectors like logistics, education, or finance. A balance between efficiency and employment must be maintained.\\n\\n**e. Existential Risk**\\nIf agentic systems surpass human capabilities in planning and coordination, they could theoretically act against human oversightâ€”an area of active AI safety research.\\n\\n6. The Path Toward Safe and Responsible Agentic AI\\nTo ensure the safe deployment of agentic systems, several technical and governance measures must be implemented:\\n\\n**a. Interpretability**\\nWe must develop transparent architectures that allow humans to understand an agentâ€™s reasoning process.\\n\\n**b. Human-in-the-Loop Systems**\\nMaintaining human oversight ensures that agents cannot make irreversible decisions independently.\\n\\n**c. Ethical Guardrails and Objective Constraints**\\nEmbedding ethical reasoning layers or constraints (e.g., constitutional AI) helps prevent unethical outcomes.\\n\\n**d. Continuous Monitoring and Evaluation**\\nLike software systems, agentic AI must undergo constant auditing, red-teaming, and refinement to detect drift or emergent behavior.\\n\\n**e. Open Collaboration and Standardization**\\nGlobal collaboration through open research, shared benchmarks, and standardized safety protocols will accelerate responsible development.\\n\\n7. The Future of Agentic AI\\nIn the near future, Agentic AI may serve as the foundation for **AI ecosystems** where autonomous systems coordinate with each other and humans in real-time. Imagine digital agents negotiating business deals, managing smart cities, or co-authoring scientific discoveries.\\n\\nFurthermore, we may see the rise of **personal digital twins**â€”agentic counterparts that understand their userâ€™s preferences, goals, and ethics, acting as true cognitive extensions of the individual. These systems could revolutionize creativity, productivity, and human flourishing.\\n\\nHowever, with this potential comes the need for **philosophical introspection**. If machines can act with apparent autonomy, what distinguishes human agency? Will society redefine notions like accountability, creativity, and consciousness?\\n\\n8. Conclusion\\nAgentic AI represents a transformative leap in artificial intelligenceâ€”shifting from reactive systems to proactive, goal-driven entities. By combining perception, reasoning, memory, and interaction, these agents can perform complex tasks autonomously, pushing the boundaries of what machines can achieve.\\n\\nYet, the evolution of Agentic AI demands careful ethical and safety considerations. As we grant machines more agency, we must ensure that their goals remain aligned with human values. The challenge is not just to create intelligent agents, but **wise ones**â€”systems that understand context, ethics, and the broader implications of their actions.\\n\\nIn summary, the rise of Agentic AI marks the dawn of a new eraâ€”one in which intelligence is not merely about cognition, but **about action, adaptation, and responsibility**. With thoughtful design, interdisciplinary collaboration, and ethical foresight, Agentic AI can become humanityâ€™s most powerful ally in solving the worldâ€™s grandest challenges.\\n'"
      ]
     },
     "execution_count": 5,
     "metadata": {},
     "output_type": "execute_result"
    }
   ],
   "source": [
    "documents[0].page_content"
   ]
  },
  {
   "cell_type": "code",
   "execution_count": null,
   "id": "80108c6a",
   "metadata": {},
   "outputs": [],
   "source": []
  },
  {
   "cell_type": "code",
   "execution_count": 6,
   "metadata": {},
   "outputs": [
    {
     "data": {
      "text/plain": [
       "[Document(metadata={'source': '../data/test_data/Agentic_AI_Essay.txt'}, page_content='Title: The Rise of Agentic AI: A New Paradigm in Artificial Intelligence'),\n",
       " Document(metadata={'source': '../data/test_data/Agentic_AI_Essay.txt'}, page_content='Introduction'),\n",
       " Document(metadata={'source': '../data/test_data/Agentic_AI_Essay.txt'}, page_content='Artificial Intelligence (AI) has evolved dramatically over the last decade, progressing from rule-based expert systems to large-scale neural networks capable of generating language, art, and even'),\n",
       " Document(metadata={'source': '../data/test_data/Agentic_AI_Essay.txt'}, page_content='art, and even scientific hypotheses. However, the next frontier of AI research and development is moving toward something far more dynamic and independentâ€”**Agentic AI**. This new paradigm'),\n",
       " Document(metadata={'source': '../data/test_data/Agentic_AI_Essay.txt'}, page_content='This new paradigm envisions AI systems that can reason, plan, and act autonomously to achieve complex goals over time. Unlike traditional AI models that passively respond to input, agentic systems'),\n",
       " Document(metadata={'source': '../data/test_data/Agentic_AI_Essay.txt'}, page_content='agentic systems can pursue objectives, adapt to environments, and self-improve through feedback loops.'),\n",
       " Document(metadata={'source': '../data/test_data/Agentic_AI_Essay.txt'}, page_content='This essay explores the concept of Agentic AI in depth, covering its definition, architecture, components, current applications, challenges, and potential societal impact. It also discusses the'),\n",
       " Document(metadata={'source': '../data/test_data/Agentic_AI_Essay.txt'}, page_content='also discusses the ethical and philosophical dimensions of creating systems capable of autonomous reasoning and decision-making.'),\n",
       " Document(metadata={'source': '../data/test_data/Agentic_AI_Essay.txt'}, page_content='1. Defining Agentic AI'),\n",
       " Document(metadata={'source': '../data/test_data/Agentic_AI_Essay.txt'}, page_content='Agentic AI refers to artificial intelligence systems that exhibit **agency**, meaning they can take initiative, make decisions, and perform actions aligned with specific objectives. While'),\n",
       " Document(metadata={'source': '../data/test_data/Agentic_AI_Essay.txt'}, page_content='objectives. While conventional AI models (like ChatGPT or image classifiers) respond to user inputs, agentic systems can **set sub-goals**, **execute multi-step reasoning**, and **interact with'),\n",
       " Document(metadata={'source': '../data/test_data/Agentic_AI_Essay.txt'}, page_content='and **interact with digital or physical environments** to fulfill tasks.'),\n",
       " Document(metadata={'source': '../data/test_data/Agentic_AI_Essay.txt'}, page_content='For example, a traditional AI assistant can provide information when asked, but an agentic AI could autonomously organize your schedule, book travel arrangements, and adapt those plans when'),\n",
       " Document(metadata={'source': '../data/test_data/Agentic_AI_Essay.txt'}, page_content='those plans when circumstances change. It operates more like an **intelligent digital co-worker** rather than a passive tool.'),\n",
       " Document(metadata={'source': '../data/test_data/Agentic_AI_Essay.txt'}, page_content='The term \"agentic\" stems from psychology and philosophy, where **agency** describes the capacity of an individual to act independently and make free choices. Translating this to AI implies systems'),\n",
       " Document(metadata={'source': '../data/test_data/Agentic_AI_Essay.txt'}, page_content='AI implies systems that can perform cognitive functions such as perception, planning, memory, reasoning, and self-reflection.'),\n",
       " Document(metadata={'source': '../data/test_data/Agentic_AI_Essay.txt'}, page_content='2. The Core Components of Agentic AI\\nBuilding an agentic system requires integrating several key components that enable perception, reasoning, and action:'),\n",
       " Document(metadata={'source': '../data/test_data/Agentic_AI_Essay.txt'}, page_content='**a. Perception**'),\n",
       " Document(metadata={'source': '../data/test_data/Agentic_AI_Essay.txt'}, page_content='The agent must perceive and interpret its environment through data. This could involve textual inputs (for digital agents) or sensory data (for robotics). Natural Language Processing (NLP), Computer'),\n",
       " Document(metadata={'source': '../data/test_data/Agentic_AI_Essay.txt'}, page_content='(NLP), Computer Vision, and multimodal learning are critical enablers here.'),\n",
       " Document(metadata={'source': '../data/test_data/Agentic_AI_Essay.txt'}, page_content='**b. Memory**'),\n",
       " Document(metadata={'source': '../data/test_data/Agentic_AI_Essay.txt'}, page_content='An agent requires both short-term and long-term memory to maintain context across interactions and learn from past experiences. Memory architectures can include vector databases, retrieval-augmented'),\n",
       " Document(metadata={'source': '../data/test_data/Agentic_AI_Essay.txt'}, page_content='retrieval-augmented generation (RAG) systems, or reinforcement learning memories.'),\n",
       " Document(metadata={'source': '../data/test_data/Agentic_AI_Essay.txt'}, page_content='**c. Planning and Reasoning**'),\n",
       " Document(metadata={'source': '../data/test_data/Agentic_AI_Essay.txt'}, page_content='This involves decision-making frameworks such as **goal decomposition**, **tree search**, **Monte Carlo simulations**, or **symbolic reasoning**. Planning allows the agent to determine the best path'),\n",
       " Document(metadata={'source': '../data/test_data/Agentic_AI_Essay.txt'}, page_content='the best path toward achieving a goal.'),\n",
       " Document(metadata={'source': '../data/test_data/Agentic_AI_Essay.txt'}, page_content='**d. Tools and Environment Interaction**'),\n",
       " Document(metadata={'source': '../data/test_data/Agentic_AI_Essay.txt'}, page_content='Agentic AI often uses **tool use**â€”such as APIs, databases, web browsers, or robotics control systemsâ€”to interact with the world. This makes them capable of performing concrete actions rather'),\n",
       " Document(metadata={'source': '../data/test_data/Agentic_AI_Essay.txt'}, page_content='actions rather than just generating text.'),\n",
       " Document(metadata={'source': '../data/test_data/Agentic_AI_Essay.txt'}, page_content='**e. Feedback and Learning**'),\n",
       " Document(metadata={'source': '../data/test_data/Agentic_AI_Essay.txt'}, page_content='Agents continually improve by analyzing outcomes and adjusting future strategies. Reinforcement Learning (RL), Self-Reflective Reasoning, and active feedback loops are common mechanisms for this'),\n",
       " Document(metadata={'source': '../data/test_data/Agentic_AI_Essay.txt'}, page_content='mechanisms for this adaptation.'),\n",
       " Document(metadata={'source': '../data/test_data/Agentic_AI_Essay.txt'}, page_content='3. Architectures Enabling Agentic AI\\nAgentic AI is not limited to one architecture. Instead, itâ€™s a paradigm that builds upon multiple frameworks, including:'),\n",
       " Document(metadata={'source': '../data/test_data/Agentic_AI_Essay.txt'}, page_content='**a. Large Language Model (LLM) Agents**'),\n",
       " Document(metadata={'source': '../data/test_data/Agentic_AI_Essay.txt'}, page_content='LLMs such as GPT-4 or Claude 3 serve as cognitive cores for many agentic systems. When paired with memory and tool access, these models can reason, plan, and act autonomously.'),\n",
       " Document(metadata={'source': '../data/test_data/Agentic_AI_Essay.txt'}, page_content='**b. Multi-Agent Systems (MAS)**'),\n",
       " Document(metadata={'source': '../data/test_data/Agentic_AI_Essay.txt'}, page_content='In MAS setups, multiple AI agents collaborate or compete to solve complex problems. Examples include research assistants working in teams or simulation environments where agents negotiate outcomes.'),\n",
       " Document(metadata={'source': '../data/test_data/Agentic_AI_Essay.txt'}, page_content='**c. Cognitive Architectures**\\nFrameworks like **ACT-R**, **SOAR**, and modern neural-symbolic hybrids attempt to mimic human cognition, combining symbolic reasoning with neural perception.'),\n",
       " Document(metadata={'source': '../data/test_data/Agentic_AI_Essay.txt'}, page_content='**d. Reinforcement Learning-Based Agents**\\nRL agents learn through trial and error, optimizing actions based on rewards. When combined with LLMs, they enable reflective and adaptive behavior.'),\n",
       " Document(metadata={'source': '../data/test_data/Agentic_AI_Essay.txt'}, page_content='4. Applications of Agentic AI\\nAgentic AI systems are already emerging across industries. Some promising applications include:'),\n",
       " Document(metadata={'source': '../data/test_data/Agentic_AI_Essay.txt'}, page_content='**a. Autonomous Research Assistants**'),\n",
       " Document(metadata={'source': '../data/test_data/Agentic_AI_Essay.txt'}, page_content='Platforms like **AutoGPT**, **BabyAGI**, and **ChatDev** can autonomously search the web, summarize papers, generate hypotheses, and even write code to test them.'),\n",
       " Document(metadata={'source': '../data/test_data/Agentic_AI_Essay.txt'}, page_content='**b. Business Process Automation**\\nAgentic systems can oversee workflowsâ€”monitoring supply chains, managing marketing campaigns, and optimizing logisticsâ€”without continuous human input.'),\n",
       " Document(metadata={'source': '../data/test_data/Agentic_AI_Essay.txt'}, page_content='**c. Personalized Education**\\nAn agentic tutor can dynamically adjust its teaching strategy based on a studentâ€™s learning pace and comprehension level.'),\n",
       " Document(metadata={'source': '../data/test_data/Agentic_AI_Essay.txt'}, page_content='**d. Healthcare Diagnostics and Management**\\nSuch systems can autonomously monitor patient data, predict health risks, schedule appointments, and optimize treatment plans.'),\n",
       " Document(metadata={'source': '../data/test_data/Agentic_AI_Essay.txt'}, page_content='**e. Robotics and Autonomous Systems**\\nIn robotics, agentic AI enables self-navigating drones, warehouse automation, and intelligent prosthetics capable of adaptive control.'),\n",
       " Document(metadata={'source': '../data/test_data/Agentic_AI_Essay.txt'}, page_content='5. Ethical and Societal Challenges\\nWhile Agentic AI holds enormous potential, it also raises profound ethical and governance challenges.'),\n",
       " Document(metadata={'source': '../data/test_data/Agentic_AI_Essay.txt'}, page_content='**a. Alignment and Control**\\nEnsuring that agents remain aligned with human intentions is a critical problem. Misaligned objectives can cause harmful or unintended behavior.'),\n",
       " Document(metadata={'source': '../data/test_data/Agentic_AI_Essay.txt'}, page_content='**b. Accountability**\\nWho is responsible when an autonomous agent makes a poor decision? Legal and moral accountability frameworks must evolve to address this question.'),\n",
       " Document(metadata={'source': '../data/test_data/Agentic_AI_Essay.txt'}, page_content='**c. Privacy and Surveillance**\\nAgentic systems with access to personal data can inadvertently violate privacy or misuse sensitive information.'),\n",
       " Document(metadata={'source': '../data/test_data/Agentic_AI_Essay.txt'}, page_content='**d. Economic Disruption**\\nAutomation at this scale may lead to displacement in sectors like logistics, education, or finance. A balance between efficiency and employment must be maintained.'),\n",
       " Document(metadata={'source': '../data/test_data/Agentic_AI_Essay.txt'}, page_content='**e. Existential Risk**\\nIf agentic systems surpass human capabilities in planning and coordination, they could theoretically act against human oversightâ€”an area of active AI safety research.'),\n",
       " Document(metadata={'source': '../data/test_data/Agentic_AI_Essay.txt'}, page_content='6. The Path Toward Safe and Responsible Agentic AI\\nTo ensure the safe deployment of agentic systems, several technical and governance measures must be implemented:'),\n",
       " Document(metadata={'source': '../data/test_data/Agentic_AI_Essay.txt'}, page_content='**a. Interpretability**\\nWe must develop transparent architectures that allow humans to understand an agentâ€™s reasoning process.'),\n",
       " Document(metadata={'source': '../data/test_data/Agentic_AI_Essay.txt'}, page_content='**b. Human-in-the-Loop Systems**\\nMaintaining human oversight ensures that agents cannot make irreversible decisions independently.'),\n",
       " Document(metadata={'source': '../data/test_data/Agentic_AI_Essay.txt'}, page_content='**c. Ethical Guardrails and Objective Constraints**\\nEmbedding ethical reasoning layers or constraints (e.g., constitutional AI) helps prevent unethical outcomes.'),\n",
       " Document(metadata={'source': '../data/test_data/Agentic_AI_Essay.txt'}, page_content='**d. Continuous Monitoring and Evaluation**\\nLike software systems, agentic AI must undergo constant auditing, red-teaming, and refinement to detect drift or emergent behavior.'),\n",
       " Document(metadata={'source': '../data/test_data/Agentic_AI_Essay.txt'}, page_content='**e. Open Collaboration and Standardization**\\nGlobal collaboration through open research, shared benchmarks, and standardized safety protocols will accelerate responsible development.'),\n",
       " Document(metadata={'source': '../data/test_data/Agentic_AI_Essay.txt'}, page_content='7. The Future of Agentic AI'),\n",
       " Document(metadata={'source': '../data/test_data/Agentic_AI_Essay.txt'}, page_content='In the near future, Agentic AI may serve as the foundation for **AI ecosystems** where autonomous systems coordinate with each other and humans in real-time. Imagine digital agents negotiating'),\n",
       " Document(metadata={'source': '../data/test_data/Agentic_AI_Essay.txt'}, page_content='agents negotiating business deals, managing smart cities, or co-authoring scientific discoveries.'),\n",
       " Document(metadata={'source': '../data/test_data/Agentic_AI_Essay.txt'}, page_content='Furthermore, we may see the rise of **personal digital twins**â€”agentic counterparts that understand their userâ€™s preferences, goals, and ethics, acting as true cognitive extensions of the'),\n",
       " Document(metadata={'source': '../data/test_data/Agentic_AI_Essay.txt'}, page_content='extensions of the individual. These systems could revolutionize creativity, productivity, and human flourishing.'),\n",
       " Document(metadata={'source': '../data/test_data/Agentic_AI_Essay.txt'}, page_content='However, with this potential comes the need for **philosophical introspection**. If machines can act with apparent autonomy, what distinguishes human agency? Will society redefine notions like'),\n",
       " Document(metadata={'source': '../data/test_data/Agentic_AI_Essay.txt'}, page_content='notions like accountability, creativity, and consciousness?'),\n",
       " Document(metadata={'source': '../data/test_data/Agentic_AI_Essay.txt'}, page_content='8. Conclusion'),\n",
       " Document(metadata={'source': '../data/test_data/Agentic_AI_Essay.txt'}, page_content='Agentic AI represents a transformative leap in artificial intelligenceâ€”shifting from reactive systems to proactive, goal-driven entities. By combining perception, reasoning, memory, and'),\n",
       " Document(metadata={'source': '../data/test_data/Agentic_AI_Essay.txt'}, page_content='memory, and interaction, these agents can perform complex tasks autonomously, pushing the boundaries of what machines can achieve.'),\n",
       " Document(metadata={'source': '../data/test_data/Agentic_AI_Essay.txt'}, page_content='Yet, the evolution of Agentic AI demands careful ethical and safety considerations. As we grant machines more agency, we must ensure that their goals remain aligned with human values. The challenge'),\n",
       " Document(metadata={'source': '../data/test_data/Agentic_AI_Essay.txt'}, page_content='The challenge is not just to create intelligent agents, but **wise ones**â€”systems that understand context, ethics, and the broader implications of their actions.'),\n",
       " Document(metadata={'source': '../data/test_data/Agentic_AI_Essay.txt'}, page_content='In summary, the rise of Agentic AI marks the dawn of a new eraâ€”one in which intelligence is not merely about cognition, but **about action, adaptation, and responsibility**. With thoughtful design,'),\n",
       " Document(metadata={'source': '../data/test_data/Agentic_AI_Essay.txt'}, page_content='thoughtful design, interdisciplinary collaboration, and ethical foresight, Agentic AI can become humanityâ€™s most powerful ally in solving the worldâ€™s grandest challenges.')]"
      ]
     },
     "execution_count": 6,
     "metadata": {},
     "output_type": "execute_result"
    }
   ],
   "source": [
    "from langchain_text_splitters import RecursiveCharacterTextSplitter\n",
    "\n",
    "text_splitter = RecursiveCharacterTextSplitter(chunk_size=200, chunk_overlap=20)\n",
    "text_chunks = text_splitter.split_documents(documents)\n",
    "text_chunks"
   ]
  },
  {
   "cell_type": "code",
   "execution_count": 7,
   "metadata": {},
   "outputs": [],
   "source": [
    "from langchain_mistralai import MistralAIEmbeddings\n",
    "from langchain_community.vectorstores import FAISS"
   ]
  },
  {
   "cell_type": "code",
   "execution_count": 8,
   "metadata": {},
   "outputs": [
    {
     "name": "stderr",
     "output_type": "stream",
     "text": [
      "e:\\Project\\Multi-Doc-Chat\\.venv\\Lib\\site-packages\\tqdm\\auto.py:21: TqdmWarning: IProgress not found. Please update jupyter and ipywidgets. See https://ipywidgets.readthedocs.io/en/stable/user_install.html\n",
      "  from .autonotebook import tqdm as notebook_tqdm\n"
     ]
    }
   ],
   "source": [
    "embeddings = MistralAIEmbeddings(model=\"mistral-embed\")"
   ]
  },
  {
   "cell_type": "code",
   "execution_count": 9,
   "metadata": {},
   "outputs": [],
   "source": [
    "vectorstore = FAISS.from_documents(text_chunks, embeddings)"
   ]
  },
  {
   "cell_type": "code",
   "execution_count": 10,
   "metadata": {},
   "outputs": [
    {
     "data": {
      "text/plain": [
       "<langchain_community.vectorstores.faiss.FAISS at 0x19038c6d4d0>"
      ]
     },
     "execution_count": 10,
     "metadata": {},
     "output_type": "execute_result"
    }
   ],
   "source": [
    "vectorstore"
   ]
  },
  {
   "cell_type": "code",
   "execution_count": 11,
   "id": "aa04f7b4",
   "metadata": {},
   "outputs": [],
   "source": [
    "retriever = vectorstore.as_retriever()"
   ]
  },
  {
   "cell_type": "code",
   "execution_count": 12,
   "id": "90897fa5",
   "metadata": {},
   "outputs": [
    {
     "name": "stdout",
     "output_type": "stream",
     "text": [
      "document 1:\n",
      "1. Defining Agentic AI\n",
      "--------------------------------------------------\n",
      "document 2:\n",
      "The term \"agentic\" stems from psychology and philosophy, where **agency** describes the capacity of an individual to act independently and make free choices. Translating this to AI implies systems\n",
      "--------------------------------------------------\n",
      "document 3:\n",
      "Agentic AI represents a transformative leap in artificial intelligenceâ€”shifting from reactive systems to proactive, goal-driven entities. By combining perception, reasoning, memory, and\n",
      "--------------------------------------------------\n",
      "document 4:\n",
      "In summary, the rise of Agentic AI marks the dawn of a new eraâ€”one in which intelligence is not merely about cognition, but **about action, adaptation, and responsibility**. With thoughtful design,\n",
      "--------------------------------------------------\n"
     ]
    }
   ],
   "source": [
    "# Perform similarity search\n",
    "query = \"What is the Key Characteristics of Agentic AI?\"\n",
    "docs = vectorstore.similarity_search(query, k=4)\n",
    "\n",
    "for i, doc in enumerate(docs):\n",
    "    print(f\"document {i+1}:\")\n",
    "    print(doc.page_content)\n",
    "    print(\"-\" * 50)"
   ]
  },
  {
   "cell_type": "code",
   "execution_count": 13,
   "metadata": {},
   "outputs": [],
   "source": [
    "from langchain_core.prompts import PromptTemplate, ChatPromptTemplate\n",
    "\n",
    "\n",
    "template=\"\"\"You are an assistant for question-answering tasks.\n",
    "Use the following pieces of retrieved context to answer the question.\n",
    "If you don't know the answer, just say that you don't know.\n",
    "Use ten sentences maximum and keep the answer concise.\n",
    "Question: {question}\n",
    "Context: {context}\n",
    "Answer:\n",
    "\"\"\""
   ]
  },
  {
   "cell_type": "code",
   "execution_count": 14,
   "metadata": {},
   "outputs": [],
   "source": [
    "prompt = ChatPromptTemplate.from_template(template)"
   ]
  },
  {
   "cell_type": "code",
   "execution_count": 15,
   "metadata": {},
   "outputs": [
    {
     "data": {
      "text/plain": [
       "ChatPromptTemplate(input_variables=['context', 'question'], input_types={}, partial_variables={}, messages=[HumanMessagePromptTemplate(prompt=PromptTemplate(input_variables=['context', 'question'], input_types={}, partial_variables={}, template=\"You are an assistant for question-answering tasks.\\nUse the following pieces of retrieved context to answer the question.\\nIf you don't know the answer, just say that you don't know.\\nUse ten sentences maximum and keep the answer concise.\\nQuestion: {question}\\nContext: {context}\\nAnswer:\\n\"), additional_kwargs={})])"
      ]
     },
     "execution_count": 15,
     "metadata": {},
     "output_type": "execute_result"
    }
   ],
   "source": [
    "prompt"
   ]
  },
  {
   "cell_type": "code",
   "execution_count": 16,
   "metadata": {},
   "outputs": [],
   "source": [
    "from langchain_core.output_parsers import StrOutputParser"
   ]
  },
  {
   "cell_type": "code",
   "execution_count": 17,
   "metadata": {},
   "outputs": [],
   "source": [
    "output_parser = StrOutputParser()"
   ]
  },
  {
   "cell_type": "code",
   "execution_count": 19,
   "metadata": {},
   "outputs": [],
   "source": [
    "from langchain_mistralai import ChatMistralAI\n",
    "llm_model = ChatMistralAI(\n",
    "    model_name=\"mistral-small-2506\"\n",
    ")"
   ]
  },
  {
   "cell_type": "code",
   "execution_count": 20,
   "metadata": {},
   "outputs": [],
   "source": [
    "from langchain_core.runnables import RunnablePassthrough"
   ]
  },
  {
   "cell_type": "code",
   "execution_count": 21,
   "id": "a4989ffb",
   "metadata": {},
   "outputs": [],
   "source": [
    "rag_chain = (\n",
    "    {\"context\": retriever,  \"question\": RunnablePassthrough()}\n",
    "    | prompt\n",
    "    | llm_model\n",
    "    | output_parser\n",
    ")"
   ]
  },
  {
   "cell_type": "code",
   "execution_count": 22,
   "id": "6ebe62f3",
   "metadata": {},
   "outputs": [
    {
     "data": {
      "text/plain": [
       "'Agentic AI refers to artificial intelligence systems that exhibit **agency**, meaning they can take initiative, make decisions, and perform actions aligned with specific objectives. It represents a shift from reactive systems to proactive, goal-driven entities. These systems combine perception, reasoning, memory, and other capabilities to operate autonomously. Agentic AI is transformative, enabling AI to act independently rather than just respond to inputs. It has applications in various fields, though it also presents challenges and societal impacts. The concept is explored in depth in the provided context, covering its architecture, components, and current uses.'"
      ]
     },
     "execution_count": 22,
     "metadata": {},
     "output_type": "execute_result"
    }
   ],
   "source": [
    "\n",
    "rag_chain.invoke(\"tell me about Agentic AI\")"
   ]
  },
  {
   "cell_type": "code",
   "execution_count": null,
   "metadata": {},
   "outputs": [],
   "source": []
  },
  {
   "cell_type": "code",
   "execution_count": null,
   "metadata": {},
   "outputs": [],
   "source": []
  },
  {
   "cell_type": "code",
   "execution_count": null,
   "metadata": {},
   "outputs": [],
   "source": []
  },
  {
   "cell_type": "code",
   "execution_count": null,
   "metadata": {},
   "outputs": [],
   "source": []
  },
  {
   "cell_type": "code",
   "execution_count": null,
   "metadata": {},
   "outputs": [],
   "source": []
  }
 ],
 "metadata": {
  "kernelspec": {
   "display_name": "Multi-Doc-Chat",
   "language": "python",
   "name": "python3"
  },
  "language_info": {
   "codemirror_mode": {
    "name": "ipython",
    "version": 3
   },
   "file_extension": ".py",
   "mimetype": "text/x-python",
   "name": "python",
   "nbconvert_exporter": "python",
   "pygments_lexer": "ipython3",
   "version": "3.11.0"
  }
 },
 "nbformat": 4,
 "nbformat_minor": 5
}
